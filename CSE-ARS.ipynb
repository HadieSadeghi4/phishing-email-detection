{
  "nbformat": 4,
  "nbformat_minor": 0,
  "metadata": {
    "colab": {
      "provenance": []
    },
    "kernelspec": {
      "name": "python3",
      "display_name": "Python 3"
    },
    "language_info": {
      "name": "python"
    }
  },
  "cells": [
    {
      "cell_type": "markdown",
      "source": [
        "# Download DataSet"
      ],
      "metadata": {
        "id": "7B3M_gDTKNJn"
      }
    },
    {
      "cell_type": "code",
      "execution_count": 4,
      "metadata": {
        "colab": {
          "base_uri": "https://localhost:8080/"
        },
        "id": "J9F9uIITJVgu",
        "outputId": "060d9a81-8214-49af-df15-adf37a2716c9"
      },
      "outputs": [
        {
          "output_type": "stream",
          "name": "stdout",
          "text": [
            "Downloading from https://www.kaggle.com/api/v1/datasets/download/wcukierski/enron-email-dataset?dataset_version_number=2...\n"
          ]
        },
        {
          "output_type": "stream",
          "name": "stderr",
          "text": [
            "100%|██████████| 358M/358M [00:14<00:00, 26.2MB/s]"
          ]
        },
        {
          "output_type": "stream",
          "name": "stdout",
          "text": [
            "Extracting files...\n"
          ]
        },
        {
          "output_type": "stream",
          "name": "stderr",
          "text": [
            "\n"
          ]
        },
        {
          "output_type": "stream",
          "name": "stdout",
          "text": [
            "Path to dataset files: /root/.cache/kagglehub/datasets/wcukierski/enron-email-dataset/versions/2\n"
          ]
        }
      ],
      "source": [
        "import kagglehub\n",
        "\n",
        "# Download latest version\n",
        "path = kagglehub.dataset_download(\"wcukierski/enron-email-dataset\")\n",
        "\n",
        "print(\"Path to dataset files:\", path)"
      ]
    },
    {
      "cell_type": "code",
      "source": [
        "import os\n",
        "\n",
        "data_path = \"/root/.cache/kagglehub/datasets/wcukierski/enron-email-dataset/versions/2\"\n",
        "files = os.listdir(data_path)\n",
        "print(\"Files in dataset:\", files)"
      ],
      "metadata": {
        "colab": {
          "base_uri": "https://localhost:8080/"
        },
        "id": "79nyccG9KYwm",
        "outputId": "01dbae00-bb94-4723-b57f-798e5d2bb77e"
      },
      "execution_count": 5,
      "outputs": [
        {
          "output_type": "stream",
          "name": "stdout",
          "text": [
            "Files in dataset: ['emails.csv']\n"
          ]
        }
      ]
    },
    {
      "cell_type": "markdown",
      "source": [
        "# Pre-processing"
      ],
      "metadata": {
        "id": "FZDioM84xRmI"
      }
    },
    {
      "cell_type": "code",
      "source": [
        "import pandas as pd\n",
        "import re\n",
        "\n",
        "\n",
        "emails_file = os.path.join(data_path, \"emails.csv\")\n",
        "emails_df = pd.read_csv(emails_file)\n",
        "\n",
        "\n",
        "print(emails_df.head())\n",
        "\n",
        "\n",
        "def clean_email_content(message):\n",
        "    message = re.sub(r'http\\S+', '', message)\n",
        "    message = re.sub(r'\\d+', '', message)\n",
        "    message = re.sub(r'[^\\w\\s]', '', message)\n",
        "    message = message.lower()\n",
        "    return message\n",
        "\n",
        "emails_df['cleaned_message'] = emails_df['message'].apply(clean_email_content)\n",
        "print(\"Cleaned email content preview:\")\n",
        "print(emails_df['cleaned_message'].head())\n"
      ],
      "metadata": {
        "colab": {
          "base_uri": "https://localhost:8080/"
        },
        "id": "mMCgLpB-KjwL",
        "outputId": "3689c1c4-f3dd-40ce-ea76-f734a7e0418d"
      },
      "execution_count": 6,
      "outputs": [
        {
          "output_type": "stream",
          "name": "stdout",
          "text": [
            "                       file                                            message\n",
            "0     allen-p/_sent_mail/1.  Message-ID: <18782981.1075855378110.JavaMail.e...\n",
            "1    allen-p/_sent_mail/10.  Message-ID: <15464986.1075855378456.JavaMail.e...\n",
            "2   allen-p/_sent_mail/100.  Message-ID: <24216240.1075855687451.JavaMail.e...\n",
            "3  allen-p/_sent_mail/1000.  Message-ID: <13505866.1075863688222.JavaMail.e...\n",
            "4  allen-p/_sent_mail/1001.  Message-ID: <30922949.1075863688243.JavaMail.e...\n",
            "Cleaned email content preview:\n",
            "0    messageid javamailevansthyme\\ndate mon  may   ...\n",
            "1    messageid javamailevansthyme\\ndate fri  may   ...\n",
            "2    messageid javamailevansthyme\\ndate wed  oct   ...\n",
            "3    messageid javamailevansthyme\\ndate mon  oct   ...\n",
            "4    messageid javamailevansthyme\\ndate thu  aug   ...\n",
            "Name: cleaned_message, dtype: object\n"
          ]
        }
      ]
    },
    {
      "cell_type": "markdown",
      "source": [
        "# Labeling"
      ],
      "metadata": {
        "id": "9fdGZKbsxaez"
      }
    },
    {
      "cell_type": "code",
      "source": [
        "def label_email(message):\n",
        "    keywords = ['password', 'bank', 'credit', 'urgent', 'login']\n",
        "    for keyword in keywords:\n",
        "        if keyword in message.lower():\n",
        "            return 1\n",
        "    return 0\n",
        "\n",
        "emails_df['label'] = emails_df['cleaned_message'].apply(label_email)\n",
        "print(emails_df[['cleaned_message', 'label']].head())"
      ],
      "metadata": {
        "colab": {
          "base_uri": "https://localhost:8080/"
        },
        "id": "oCBgRDTxLS5d",
        "outputId": "156fec0f-e113-4c6f-c4d4-63624c075543"
      },
      "execution_count": 7,
      "outputs": [
        {
          "output_type": "stream",
          "name": "stdout",
          "text": [
            "                                     cleaned_message  label\n",
            "0  messageid javamailevansthyme\\ndate mon  may   ...      0\n",
            "1  messageid javamailevansthyme\\ndate fri  may   ...      0\n",
            "2  messageid javamailevansthyme\\ndate wed  oct   ...      0\n",
            "3  messageid javamailevansthyme\\ndate mon  oct   ...      0\n",
            "4  messageid javamailevansthyme\\ndate thu  aug   ...      0\n"
          ]
        }
      ]
    },
    {
      "cell_type": "markdown",
      "source": [
        "# Split dataset"
      ],
      "metadata": {
        "id": "OPCZrPC4xe-Q"
      }
    },
    {
      "cell_type": "code",
      "source": [
        "from sklearn.model_selection import train_test_split\n",
        "\n",
        "X_train, X_test, y_train, y_test = train_test_split(\n",
        "    emails_df['cleaned_message'], emails_df['label'], test_size=0.2, random_state=42\n",
        ")\n",
        "print(\"Training and testing sets created.\")"
      ],
      "metadata": {
        "colab": {
          "base_uri": "https://localhost:8080/"
        },
        "id": "PM9ibxDQLdJN",
        "outputId": "58e1adc7-e81c-4fef-f486-55fa9997ce34"
      },
      "execution_count": 8,
      "outputs": [
        {
          "output_type": "stream",
          "name": "stdout",
          "text": [
            "Training and testing sets created.\n"
          ]
        }
      ]
    },
    {
      "cell_type": "markdown",
      "source": [
        "# Vectorization"
      ],
      "metadata": {
        "id": "hde5egQTxino"
      }
    },
    {
      "cell_type": "code",
      "source": [
        "from sklearn.feature_extraction.text import TfidfVectorizer\n",
        "\n",
        "\n",
        "vectorizer = TfidfVectorizer(max_features=5000, stop_words='english')\n",
        "X_train_vectorized = vectorizer.fit_transform(X_train)\n",
        "X_test_vectorized = vectorizer.transform(X_test)\n",
        "\n",
        "print(\"Text vectorization completed.\")"
      ],
      "metadata": {
        "colab": {
          "base_uri": "https://localhost:8080/"
        },
        "id": "LPzF5OByLiVw",
        "outputId": "681aff9e-bbd8-4414-8d62-1b0e58d21dab"
      },
      "execution_count": 9,
      "outputs": [
        {
          "output_type": "stream",
          "name": "stdout",
          "text": [
            "Text vectorization completed.\n"
          ]
        }
      ]
    },
    {
      "cell_type": "markdown",
      "source": [
        "# Create Model"
      ],
      "metadata": {
        "id": "UgKXXkH8xo0D"
      }
    },
    {
      "cell_type": "code",
      "source": [
        "from sklearn.linear_model import LogisticRegression\n",
        "\n",
        "\n",
        "model = LogisticRegression(random_state=42)\n",
        "model.fit(X_train_vectorized, y_train)\n",
        "\n",
        "print(\"Model training completed.\")"
      ],
      "metadata": {
        "colab": {
          "base_uri": "https://localhost:8080/"
        },
        "id": "VVdipnaDMUww",
        "outputId": "e465c695-70ac-4562-ef09-e75d016e6c51"
      },
      "execution_count": 10,
      "outputs": [
        {
          "output_type": "stream",
          "name": "stdout",
          "text": [
            "Model training completed.\n"
          ]
        }
      ]
    },
    {
      "cell_type": "markdown",
      "source": [
        "# Classification Report"
      ],
      "metadata": {
        "id": "fEpQPz--xuFo"
      }
    },
    {
      "cell_type": "code",
      "source": [
        "from sklearn.metrics import classification_report, accuracy_score, roc_curve, auc\n",
        "import matplotlib.pyplot as plt\n",
        "\n",
        "\n",
        "y_pred = model.predict(X_test_vectorized)\n",
        "y_pred_prob = model.predict_proba(X_test_vectorized)[:, 1]\n",
        "\n",
        "print(\"Classification Report:\")\n",
        "print(classification_report(y_test, y_pred))\n",
        "print(\"Accuracy:\", accuracy_score(y_test, y_pred))\n",
        "\n",
        "# ROC\n",
        "fpr, tpr, _ = roc_curve(y_test, y_pred_prob)\n",
        "roc_auc = auc(fpr, tpr)\n",
        "\n",
        "plt.figure()\n",
        "plt.plot(fpr, tpr, color='darkorange', lw=2, label=f\"ROC curve (AUC = {roc_auc:0.2f})\")\n",
        "plt.plot([0, 1], [0, 1], color='navy', lw=2, linestyle='--')\n",
        "plt.xlabel('False Positive Rate')\n",
        "plt.ylabel('True Positive Rate')\n",
        "plt.title('Receiver Operating Characteristic')\n",
        "plt.legend(loc=\"lower right\")\n",
        "plt.show()\n"
      ],
      "metadata": {
        "colab": {
          "base_uri": "https://localhost:8080/",
          "height": 668
        },
        "id": "kzCZ1ilsMfD5",
        "outputId": "2360ac38-5884-4667-c238-a3df825d1d99"
      },
      "execution_count": 11,
      "outputs": [
        {
          "output_type": "stream",
          "name": "stdout",
          "text": [
            "Classification Report:\n",
            "              precision    recall  f1-score   support\n",
            "\n",
            "           0       0.97      1.00      0.98     89192\n",
            "           1       0.99      0.82      0.90     14289\n",
            "\n",
            "    accuracy                           0.97    103481\n",
            "   macro avg       0.98      0.91      0.94    103481\n",
            "weighted avg       0.97      0.97      0.97    103481\n",
            "\n",
            "Accuracy: 0.9736569998357186\n"
          ]
        },
        {
          "output_type": "display_data",
          "data": {
            "text/plain": [
              "<Figure size 640x480 with 1 Axes>"
            ],
            "image/png": "[encoded data removed]"
          },
          "metadata": {}
        }
      ]
    },
    {
      "cell_type": "markdown",
      "source": [
        "# Split for BERT"
      ],
      "metadata": {
        "id": "cu4AqkQYx6_D"
      }
    },
    {
      "cell_type": "code",
      "source": [
        "import torch\n",
        "from torch.utils.data import Dataset\n",
        "\n",
        "class EmailDataset(Dataset):\n",
        "    def __init__(self, encodings, labels):\n",
        "        self.encodings = encodings\n",
        "        self.labels = labels\n",
        "\n",
        "    def __len__(self):\n",
        "        return len(self.labels)\n",
        "\n",
        "    def __getitem__(self, idx):\n",
        "        return {\n",
        "            'input_ids': self.encodings['input_ids'][idx],\n",
        "            'attention_mask': self.encodings['attention_mask'][idx],\n",
        "            'labels': torch.tensor(self.labels[idx])\n",
        "        }\n",
        "\n",
        "\n",
        "train_dataset = EmailDataset(train_encodings, y_train[:500].tolist())\n",
        "test_dataset = EmailDataset(test_encodings, y_test[:100].tolist())\n"
      ],
      "metadata": {
        "id": "JaS69_e8d-rB"
      },
      "execution_count": 13,
      "outputs": []
    },
    {
      "cell_type": "markdown",
      "source": [
        "BERT"
      ],
      "metadata": {
        "id": "IU6y0YeYyAdH"
      }
    },
    {
      "cell_type": "code",
      "source": [
        "from transformers import DistilBertTokenizer, DistilBertForSequenceClassification, Trainer, TrainingArguments\n",
        "import os\n",
        "\n",
        "\n",
        "os.environ[\"WANDB_DISABLED\"] = \"true\"\n",
        "\n",
        "model_name = \"distilbert-base-uncased\"\n",
        "tokenizer = DistilBertTokenizer.from_pretrained(model_name)\n",
        "bert_model = DistilBertForSequenceClassification.from_pretrained(model_name, num_labels=2)\n",
        "\n",
        "\n",
        "train_encodings = tokenizer(list(X_train[:500]), truncation=True, padding=True, max_length=128, return_tensors=\"pt\")\n",
        "test_encodings = tokenizer(list(X_test[:100]), truncation=True, padding=True, max_length=128, return_tensors=\"pt\")\n",
        "\n",
        "\n",
        "train_dataset = EmailDataset(train_encodings, y_train[:500].tolist())\n",
        "test_dataset = EmailDataset(test_encodings, y_test[:100].tolist())\n",
        "\n",
        "training_args = TrainingArguments(\n",
        "    output_dir='./results', num_train_epochs=10, per_device_train_batch_size=8,\n",
        "    eval_strategy=\"epoch\", save_total_limit=2, learning_rate=2e-5, fp16=True\n",
        ")\n",
        "\n",
        "# Trainer\n",
        "trainer = Trainer(\n",
        "    model=bert_model, args=training_args,\n",
        "    train_dataset=train_dataset, eval_dataset=test_dataset\n",
        ")\n",
        "\n",
        "\n",
        "trainer.train()"
      ],
      "metadata": {
        "colab": {
          "base_uri": "https://localhost:8080/",
          "height": 498
        },
        "id": "3C4Hyv5og_8d",
        "outputId": "c9a54459-752f-4a2f-d1f4-32d91c3095f1"
      },
      "execution_count": 19,
      "outputs": [
        {
          "output_type": "stream",
          "name": "stderr",
          "text": [
            "Some weights of DistilBertForSequenceClassification were not initialized from the model checkpoint at distilbert-base-uncased and are newly initialized: ['classifier.bias', 'classifier.weight', 'pre_classifier.bias', 'pre_classifier.weight']\n",
            "You should probably TRAIN this model on a down-stream task to be able to use it for predictions and inference.\n",
            "Using the `WANDB_DISABLED` environment variable is deprecated and will be removed in v5. Use the --report_to flag to control the integrations used for logging result (for instance --report_to none).\n"
          ]
        },
        {
          "output_type": "display_data",
          "data": {
            "text/plain": [
              "<IPython.core.display.HTML object>"
            ],
            "text/html": [
              "\n",
              "    <div>\n",
              "      \n",
              "      <progress value='630' max='630' style='width:300px; height:20px; vertical-align: middle;'></progress>\n",
              "      [630/630 1:06:55, Epoch 10/10]\n",
              "    </div>\n",
              "    <table border=\"1\" class=\"dataframe\">\n",
              "  <thead>\n",
              " <tr style=\"text-align: left;\">\n",
              "      <th>Epoch</th>\n",
              "      <th>Training Loss</th>\n",
              "      <th>Validation Loss</th>\n",
              "    </tr>\n",
              "  </thead>\n",
              "  <tbody>\n",
              "    <tr>\n",
              "      <td>1</td>\n",
              "      <td>No log</td>\n",
              "      <td>0.385945</td>\n",
              "    </tr>\n",
              "    <tr>\n",
              "      <td>2</td>\n",
              "      <td>No log</td>\n",
              "      <td>0.407982</td>\n",
              "    </tr>\n",
              "    <tr>\n",
              "      <td>3</td>\n",
              "      <td>No log</td>\n",
              "      <td>0.379615</td>\n",
              "    </tr>\n",
              "    <tr>\n",
              "      <td>4</td>\n",
              "      <td>No log</td>\n",
              "      <td>0.374775</td>\n",
              "    </tr>\n",
              "    <tr>\n",
              "      <td>5</td>\n",
              "      <td>No log</td>\n",
              "      <td>0.459884</td>\n",
              "    </tr>\n",
              "    <tr>\n",
              "      <td>6</td>\n",
              "      <td>No log</td>\n",
              "      <td>0.375603</td>\n",
              "    </tr>\n",
              "    <tr>\n",
              "      <td>7</td>\n",
              "      <td>No log</td>\n",
              "      <td>0.396060</td>\n",
              "    </tr>\n",
              "    <tr>\n",
              "      <td>8</td>\n",
              "      <td>0.299200</td>\n",
              "      <td>0.455786</td>\n",
              "    </tr>\n",
              "    <tr>\n",
              "      <td>9</td>\n",
              "      <td>0.299200</td>\n",
              "      <td>0.459738</td>\n",
              "    </tr>\n",
              "    <tr>\n",
              "      <td>10</td>\n",
              "      <td>0.299200</td>\n",
              "      <td>0.453600</td>\n",
              "    </tr>\n",
              "  </tbody>\n",
              "</table><p>"
            ]
          },
          "metadata": {}
        },
        {
          "output_type": "execute_result",
          "data": {
            "text/plain": [
              "TrainOutput(global_step=630, training_loss=0.26233969037494964, metrics={'train_runtime': 4022.5737, 'train_samples_per_second': 1.243, 'train_steps_per_second': 0.157, 'total_flos': 165584248320000.0, 'train_loss': 0.26233969037494964, 'epoch': 10.0})"
            ]
          },
          "metadata": {},
          "execution_count": 19
        }
      ]
    },
    {
      "cell_type": "markdown",
      "source": [
        "#Result Chart"
      ],
      "metadata": {
        "id": "62RVz5HNyJCG"
      }
    },
    {
      "cell_type": "code",
      "source": [
        "import matplotlib.pyplot as plt\n",
        "\n",
        "\n",
        "epochs = list(range(1, 11))\n",
        "training_loss = [None, None, None, None, None, None, None, 0.299200, 0.299200, 0.299200]  # مقادیر Training Loss\n",
        "validation_loss = [0.385945, 0.407982, 0.379615, 0.374775, 0.459884, 0.375603, 0.396060, 0.455786, 0.459738, 0.453600]\n",
        "\n",
        "\n",
        "training_epochs = [e for e, t in zip(epochs, training_loss) if t is not None]\n",
        "training_loss_cleaned = [t for t in training_loss if t is not None]\n",
        "\n",
        "\n",
        "plt.figure(figsize=(8, 6))\n",
        "\n",
        "\n",
        "plt.plot(epochs, validation_loss, label=\"Validation Loss\", marker='o', color='blue')\n",
        "\n",
        "\n",
        "plt.plot(training_epochs, training_loss_cleaned, label=\"Training Loss\", marker='o', color='orange')\n",
        "\n",
        "\n",
        "plt.title(\"Training and Validation Loss over 10 Epochs\")\n",
        "plt.xlabel(\"Epoch\")\n",
        "plt.ylabel(\"Loss\")\n",
        "plt.legend()\n",
        "plt.grid(True)\n",
        "plt.show()"
      ],
      "metadata": {
        "colab": {
          "base_uri": "https://localhost:8080/",
          "height": 564
        },
        "id": "AEEBIHIIw76e",
        "outputId": "f3beb579-2961-4d8a-8cb6-27d70e9de2b1"
      },
      "execution_count": 20,
      "outputs": [
        {
          "output_type": "display_data",
          "data": {
            "text/plain": [
              "<Figure size 800x600 with 1 Axes>"
            ],
            "image/png": "[encoded data removed]"
          },
          "metadata": {}
        }
      ]
    },
    {
      "cell_type": "markdown",
      "source": [
        "# Testing model"
      ],
      "metadata": {
        "id": "X_xU-cZXyZaW"
      }
    },
    {
      "cell_type": "code",
      "source": [
        "def predict_email(email_text):\n",
        "\n",
        "    cleaned_email = clean_email_content(email_text)\n",
        "    vectorized_email = vectorizer.transform([cleaned_email])\n",
        "    prediction = model.predict(vectorized_email)\n",
        "    return \"Attack\" if prediction[0] == 1 else \"Not an Attack\"\n",
        "\n",
        "\n",
        "sample_email = \"Please update your bank account details immediately to avoid account suspension.\"\n",
        "print(\"Prediction:\", predict_email(sample_email))"
      ],
      "metadata": {
        "colab": {
          "base_uri": "https://localhost:8080/"
        },
        "id": "ebJD-9QYgWG4",
        "outputId": "91369a2f-2488-4ae0-d983-19415bc392af"
      },
      "execution_count": 21,
      "outputs": [
        {
          "output_type": "stream",
          "name": "stdout",
          "text": [
            "Prediction: Attack\n"
          ]
        }
      ]
    },
    {
      "cell_type": "markdown",
      "source": [
        "# BERT prediction"
      ],
      "metadata": {
        "id": "8PcLRLSPymxP"
      }
    },
    {
      "cell_type": "code",
      "source": [
        "import torch\n",
        "\n",
        "def predict_email_with_bert(email_text):\n",
        "\n",
        "    encoding = tokenizer(email_text, truncation=True, padding=True, max_length=512, return_tensors=\"pt\")\n",
        "\n",
        "\n",
        "    outputs = bert_model(**encoding)\n",
        "    logits = outputs.logits\n",
        "    prediction = torch.argmax(logits, dim=1).item()\n",
        "\n",
        "    return \"Attack\" if prediction == 1 else \"Not an Attack\"\n",
        "\n",
        "sample_email = \"Your credit card has been compromised. Please click the link to secure your account.\"\n",
        "print(\"Prediction:\", predict_email_with_bert(sample_email))\n"
      ],
      "metadata": {
        "colab": {
          "base_uri": "https://localhost:8080/"
        },
        "id": "MGxnwvnbgYS9",
        "outputId": "f0c2fbb9-5518-446d-a673-bc77180b2c4f"
      },
      "execution_count": 22,
      "outputs": [
        {
          "output_type": "stream",
          "name": "stdout",
          "text": [
            "Prediction: Not an Attack\n"
          ]
        }
      ]
    },
    {
      "cell_type": "markdown",
      "source": [
        "# online attack test"
      ],
      "metadata": {
        "id": "ldHB6J4_yss-"
      }
    },
    {
      "cell_type": "code",
      "source": [
        "while True:\n",
        "    email_text = input(\"Enter an email text to test (or type 'exit' to quit): \")\n",
        "    if email_text.lower() == 'exit':\n",
        "        break\n",
        "    print(\"Logistic Regression Prediction:\", predict_email(email_text))\n",
        "    print(\"BERT Prediction:\", predict_email_with_bert(email_text))\n"
      ],
      "metadata": {
        "colab": {
          "base_uri": "https://localhost:8080/"
        },
        "id": "fDQavlxggef6",
        "outputId": "74fca93b-53da-4cd6-c219-12a680d472c4"
      },
      "execution_count": 23,
      "outputs": [
        {
          "name": "stdout",
          "output_type": "stream",
          "text": [
            "Enter an email text to test (or type 'exit' to quit): Please update your bank account details immediately to avoid account suspension.\n",
            "Logistic Regression Prediction: Attack\n",
            "BERT Prediction: Not an Attack\n",
            "Enter an email text to test (or type 'exit' to quit): exit\n"
          ]
        }
      ]
    }
  ]
}